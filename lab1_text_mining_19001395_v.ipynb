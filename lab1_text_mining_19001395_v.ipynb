{
  "nbformat": 4,
  "nbformat_minor": 0,
  "metadata": {
    "colab": {
      "provenance": [],
      "toc_visible": true,
      "authorship_tag": "ABX9TyNtl0VvFhjlqH3lxSmQIqgo",
      "include_colab_link": true
    },
    "kernelspec": {
      "name": "python3",
      "display_name": "Python 3"
    },
    "language_info": {
      "name": "python"
    }
  },
  "cells": [
    {
      "cell_type": "markdown",
      "metadata": {
        "id": "view-in-github",
        "colab_type": "text"
      },
      "source": [
        "<a href=\"https://colab.research.google.com/github/ochamodev/lab1_textmining_19001395_v/blob/main/lab1_text_mining_19001395_v.ipynb\" target=\"_parent\"><img src=\"https://colab.research.google.com/assets/colab-badge.svg\" alt=\"Open In Colab\"/></a>"
      ]
    },
    {
      "cell_type": "markdown",
      "source": [
        "# Lab1: Image operations.\n",
        "# Course: Text mining and image recognition\n",
        "# Student: Otto Chamo"
      ],
      "metadata": {
        "id": "Mr03kVYjrbFX"
      }
    },
    {
      "cell_type": "markdown",
      "source": [
        "# Problem 1."
      ],
      "metadata": {
        "id": "LxMOLB5Ers1n"
      }
    },
    {
      "cell_type": "code",
      "execution_count": null,
      "metadata": {
        "id": "S-Zz1cutp4kJ"
      },
      "outputs": [],
      "source": [
        "def channelActivation(img, color: int):\n",
        "  pass"
      ]
    }
  ]
}